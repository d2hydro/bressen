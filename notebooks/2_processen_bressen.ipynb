{
 "cells": [
  {
   "cell_type": "code",
   "execution_count": 1,
   "metadata": {},
   "outputs": [],
   "source": [
    "from pathlib import Path\n",
    "\n",
    "import geopandas as gpd\n",
    "from shapely.geometry import LineString, Point\n",
    "\n",
    "from bressen import BasisGegevens, read_files\n",
    "from bressen.geometries import (\n",
    "    get_closest_feature,\n",
    "    get_containing_feature,\n",
    "    get_offsets,\n",
    "    project_point,\n",
    ")\n",
    "from bressen.kering import get_kering_geometry\n",
    "from bressen.styles import add_styles_to_geopackage"
   ]
  },
  {
   "cell_type": "markdown",
   "metadata": {},
   "source": [
    "## Paden naar gegevens\n",
    "Gegevens zijn aangeleverd in verschillende directories:\n",
    "- 01_AGV_Dijktrajecten_Legger: dijktrajecten van waterschap Amstel Gooi en Vecht\n",
    "- 02_ARK_Kering: kering van het Amsterdam-Rijnkanaal\n",
    "- 03_Doorbraaklocaties: de locaties van de doorbraken\n",
    "- 04_Watervlakken: alle beschikbare watervlakken\n",
    "\n",
    "BASISGEGEVENS_GPKG en BRESSEN_GPKG verwijzen naar de basisgegevens (keringen, peil- en watervlakken) en het bressen-bestand"
   ]
  },
  {
   "cell_type": "code",
   "execution_count": 2,
   "metadata": {},
   "outputs": [],
   "source": [
    "DATA_DIR = Path(r\"d:\\projecten\\D2405.waternet.bressen\\01.gegevens\")\n",
    "BASISGEGEVENS_GPKG = DATA_DIR / \"basisgegevens.gpkg\"\n",
    "BRESSEN_GPKG = DATA_DIR / \"bressen.gpkg\""
   ]
  },
  {
   "cell_type": "markdown",
   "metadata": {},
   "source": [
    "## Inlezen\n",
    "Inlezen van basisgegevens en bressen"
   ]
  },
  {
   "cell_type": "code",
   "execution_count": 3,
   "metadata": {},
   "outputs": [
    {
     "ename": "NameError",
     "evalue": "name 'Bressen' is not defined",
     "output_type": "error",
     "traceback": [
      "\u001b[1;31m---------------------------------------------------------------------------\u001b[0m",
      "\u001b[1;31mNameError\u001b[0m                                 Traceback (most recent call last)",
      "Cell \u001b[1;32mIn[3], line 12\u001b[0m\n\u001b[0;32m      5\u001b[0m bressen_gdf \u001b[38;5;241m=\u001b[39m read_files([\n\u001b[0;32m      6\u001b[0m     DATA_DIR\u001b[38;5;241m.\u001b[39mjoinpath(\u001b[38;5;124m\"\u001b[39m\u001b[38;5;124m03_Doorbraaklocaties\u001b[39m\u001b[38;5;124m\"\u001b[39m, \u001b[38;5;124m\"\u001b[39m\u001b[38;5;124m240122_breslocaties_gelijk_groter_1000.shp\u001b[39m\u001b[38;5;124m\"\u001b[39m),\n\u001b[0;32m      7\u001b[0m     DATA_DIR\u001b[38;5;241m.\u001b[39mjoinpath(\u001b[38;5;124m\"\u001b[39m\u001b[38;5;124m03_Doorbraaklocaties\u001b[39m\u001b[38;5;124m\"\u001b[39m, \u001b[38;5;124m\"\u001b[39m\u001b[38;5;124m240212_breslocaties_kleiner_1000_angle.shp\u001b[39m\u001b[38;5;124m\"\u001b[39m),\n\u001b[0;32m      8\u001b[0m     DATA_DIR\u001b[38;5;241m.\u001b[39mjoinpath(\u001b[38;5;124m\"\u001b[39m\u001b[38;5;124m03_Doorbraaklocaties\u001b[39m\u001b[38;5;124m\"\u001b[39m, \u001b[38;5;124m\"\u001b[39m\u001b[38;5;124m240212_breslocaties_Waterkeringen_Blaeu_ARK.shp\u001b[39m\u001b[38;5;124m\"\u001b[39m),\n\u001b[0;32m      9\u001b[0m     ])\n\u001b[0;32m     11\u001b[0m \u001b[38;5;66;03m# Vullen van de bressenklasse met basisgegevens en de bressen GeoDataFrame\u001b[39;00m\n\u001b[1;32m---> 12\u001b[0m bressen \u001b[38;5;241m=\u001b[39m \u001b[43mBressen\u001b[49m\u001b[38;5;241m.\u001b[39mfrom_gdf(bressen_gdf\u001b[38;5;241m=\u001b[39mbressen_gdf, basisgegevens\u001b[38;5;241m=\u001b[39mbasisgegevens)\n",
      "\u001b[1;31mNameError\u001b[0m: name 'Bressen' is not defined"
     ]
    }
   ],
   "source": [
    "# Inlezen basisgegevens vanuit een GeoPackage\n",
    "basis_gegevens = BasisGegevens.from_gpkg(BASISGEGEVENS_GPKG)\n",
    "\n",
    "# Inlezen bressen vanuit meerdere bestanden naar een GeoDataFrame\n",
    "bressen_gdf = read_files(\n",
    "    [\n",
    "        DATA_DIR.joinpath(\"03_Doorbraaklocaties\", \"240122_breslocaties_gelijk_groter_1000.shp\"),\n",
    "        DATA_DIR.joinpath(\"03_Doorbraaklocaties\", \"240212_breslocaties_kleiner_1000_angle.shp\"),\n",
    "        DATA_DIR.joinpath(\"03_Doorbraaklocaties\", \"240212_breslocaties_Waterkeringen_Blaeu_ARK.shp\"),\n",
    "    ]\n",
    ")\n",
    "\n",
    "# Vullen van de bressenklasse met basisgegevens en de bressen GeoDataFrame\n",
    "bressen = Bressen.from_gdf(bressen_gdf=bressen_gdf, basisgegevens=basisgegevens)"
   ]
  },
  {
   "cell_type": "markdown",
   "metadata": {},
   "source": [
    "## Verwerken bressen\n",
    "We hanteren de volgende instellingen:\n",
    "\n",
    "- `offset`: offset van de bres t.o.v. kering in meter\n",
    "- `breedte`: breedte van de bres haaks op de kering in meter\n",
    "- `lengte`: lengte van de bres langs de kering in meter\n",
    "\n",
    "\n",
    "### alle bressen in 1X"
   ]
  },
  {
   "cell_type": "code",
   "execution_count": null,
   "metadata": {},
   "outputs": [],
   "source": [
    "bressen.bereken_vlakken(offset=50, lengte=200, breedte=40)"
   ]
  },
  {
   "cell_type": "markdown",
   "metadata": {},
   "source": [
    "### enkele bressen \n",
    "Wanneer je 1 of meerdere bressen wilt processen met andere instellingen, kun je individuele bressen opvragen en als dusdanig processen."
   ]
  },
  {
   "cell_type": "code",
   "execution_count": null,
   "metadata": {},
   "outputs": [],
   "source": [
    "bres = bressen.get_bres(fid=1329)\n",
    "bres.bereken_vlak(offset=40, lengte=150, breedte=20, basisgegevens=bressen.basisgegevens)"
   ]
  },
  {
   "cell_type": "markdown",
   "metadata": {},
   "source": [
    "## Wegschrijven resultaat\n",
    "\n",
    "In de laatste stap schrijven we de resultaten weg naar een GeoPackage. Deze bevat drie lagen\n",
    "- `bressen` met de originele punten samengevoegd in 1 laag (punt-feature)\n",
    "- `bresvlakken` met de bresvlakken hierboven berekend (polygoon-feature)\n",
    "- `fouten` met alle vlakken die niet kunnen worden berekend (geen geometrie)"
   ]
  },
  {
   "cell_type": "code",
   "execution_count": null,
   "metadata": {},
   "outputs": [],
   "source": [
    "bressen.to_gpkg(DATA_DIR / \"resultaat.gpkg\")"
   ]
  }
 ],
 "metadata": {
  "kernelspec": {
   "display_name": "Python 3",
   "language": "python",
   "name": "python3"
  },
  "language_info": {
   "codemirror_mode": {
    "name": "ipython",
    "version": 3
   },
   "file_extension": ".py",
   "mimetype": "text/x-python",
   "name": "python",
   "nbconvert_exporter": "python",
   "pygments_lexer": "ipython3",
   "version": "3.12.2"
  }
 },
 "nbformat": 4,
 "nbformat_minor": 2
}
