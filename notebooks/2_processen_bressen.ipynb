{
 "cells": [
  {
   "cell_type": "code",
   "execution_count": null,
   "metadata": {},
   "outputs": [],
   "source": [
    "from pathlib import Path\n",
    "from bressen import BasisGegevens, read_files\n",
    "from bressen.kering import get_kering_geometry\n",
    "from bressen.styles import add_styles_to_geopackage\n",
    "from bressen.geometries import get_closest_feature, project_point, get_containing_feature, get_offsets\n",
    "import geopandas as gpd\n",
    "from shapely.geometry import LineString, Point"
   ]
  },
  {
   "cell_type": "markdown",
   "metadata": {},
   "source": [
    "## Paden naar gegevens\n",
    "Gegevens zijn aangeleverd in verschillende directories:\n",
    "- 01_AGV_Dijktrajecten_Legger: dijktrajecten van waterschap Amstel Gooi en Vecht\n",
    "- 02_ARK_Kering: kering van het Amsterdam-Rijnkanaal\n",
    "- 03_Doorbraaklocaties: de locaties van de doorbraken\n",
    "- 04_Watervlakken: alle beschikbare watervlakken\n",
    "\n",
    "BASISGEGEVENS_GPKG en BRESSEN_GPKG verwijzen naar de basisgegevens (keringen, peil- en watervlakken) en het bressen-bestand"
   ]
  },
  {
   "cell_type": "code",
   "execution_count": null,
   "metadata": {},
   "outputs": [],
   "source": [
    "DATA_DIR = Path(r\"d:\\projecten\\D2405.waternet.bressen\\01.gegevens\")\n",
    "BASISGEGEVENS_GPKG = DATA_DIR / \"basisgegevens.gpkg\"\n",
    "BRESSEN_GPKG = DATA_DIR / \"bressen.gpkg\""
   ]
  },
  {
   "cell_type": "markdown",
   "metadata": {},
   "source": [
    "## Inlezen\n",
    "Inlezen van basisgegevens en bressen"
   ]
  },
  {
   "cell_type": "code",
   "execution_count": null,
   "metadata": {},
   "outputs": [],
   "source": [
    "# %% Inlezen basisgegevens vanuit GPKG\n",
    "basis_gegevens = BasisGegevens.from_gpkg(BASISGEGEVENS_GPKG)\n",
    "\n",
    "# Inlezen bressen vanuit meerdere bestanden\n",
    "bressen_gdf = read_files([\n",
    "    DATA_DIR.joinpath(\"03_Doorbraaklocaties\", \"240122_breslocaties_gelijk_groter_1000.shp\"),\n",
    "    DATA_DIR.joinpath(\"03_Doorbraaklocaties\", \"240212_breslocaties_kleiner_1000_angle.shp\"),\n",
    "    DATA_DIR.joinpath(\"03_Doorbraaklocaties\", \"240212_breslocaties_Waterkeringen_Blaeu_ARK.shp\"),\n",
    "    ])\n"
   ]
  },
  {
   "cell_type": "markdown",
   "metadata": {},
   "source": [
    "## Verwerken Bressen\n",
    "We hanteren de volgende instellingen\n",
    "`x1`: offset van de bres t.o.v. kering in meter\n",
    "`x2`: breedte van de bres haaks op de kering in meter\n",
    "`x3`: lengte van de bres langs de kering in meter"
   ]
  },
  {
   "cell_type": "code",
   "execution_count": null,
   "metadata": {},
   "outputs": [],
   "source": [
    "bressen.bereken_polygonen(offset=50, lengte=200, breedte=40)"
   ]
  },
  {
   "cell_type": "markdown",
   "metadata": {},
   "source": [
    "## Wegschrijven resultaat"
   ]
  },
  {
   "cell_type": "code",
   "execution_count": null,
   "metadata": {},
   "outputs": [],
   "source": [
    "bressen.to_gpkg(DATA_DIR / \"resultaat.gpkg\")"
   ]
  }
 ],
 "metadata": {
  "kernelspec": {
   "display_name": "Python 3",
   "language": "python",
   "name": "python3"
  },
  "language_info": {
   "name": "python",
   "version": "3.12.2"
  }
 },
 "nbformat": 4,
 "nbformat_minor": 2
}
