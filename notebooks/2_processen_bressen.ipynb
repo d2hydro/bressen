{
 "cells": [
  {
   "cell_type": "code",
   "execution_count": 7,
   "metadata": {},
   "outputs": [],
   "source": [
    "from pathlib import Path\n",
    "\n",
    "from bressen import BasisGegevens, Bressen, read_files"
   ]
  },
  {
   "cell_type": "markdown",
   "metadata": {},
   "source": [
    "## Paden naar gegevens\n",
    "Gegevens zijn aangeleverd in verschillende directories:\n",
    "- 01_AGV_Dijktrajecten_Legger: dijktrajecten van waterschap Amstel Gooi en Vecht\n",
    "- 02_ARK_Kering: kering van het Amsterdam-Rijnkanaal\n",
    "- 03_Doorbraaklocaties: de locaties van de doorbraken\n",
    "- 04_Watervlakken: alle beschikbare watervlakken\n",
    "\n",
    "BASISGEGEVENS_GPKG en BRESSEN_GPKG verwijzen naar de basisgegevens (keringen, peil- en watervlakken) en het bressen-bestand"
   ]
  },
  {
   "cell_type": "code",
   "execution_count": 8,
   "metadata": {},
   "outputs": [],
   "source": [
    "DATA_DIR = Path(r\"d:\\projecten\\D2405.waternet.bressen\\01.gegevens\")\n",
    "BASISGEGEVENS_GPKG = DATA_DIR / \"basisgegevens.gpkg\"\n",
    "BRESSEN_GPKG = DATA_DIR / \"bressen.gpkg\""
   ]
  },
  {
   "cell_type": "markdown",
   "metadata": {},
   "source": [
    "## Inlezen\n",
    "Inlezen van basisgegevens en bressen"
   ]
  },
  {
   "cell_type": "code",
   "execution_count": 9,
   "metadata": {},
   "outputs": [],
   "source": [
    "# Inlezen basisgegevens vanuit een GeoPackage\n",
    "basisgegevens = BasisGegevens.from_gpkg(BASISGEGEVENS_GPKG)\n",
    "\n",
    "# Inlezen bressen vanuit meerdere bestanden naar een GeoDataFrame\n",
    "bressen_gdf = read_files(\n",
    "    [\n",
    "        DATA_DIR.joinpath(\"03_Doorbraaklocaties\", \"240122_breslocaties_gelijk_groter_1000.shp\"),\n",
    "        DATA_DIR.joinpath(\"03_Doorbraaklocaties\", \"240212_breslocaties_kleiner_1000_angle.shp\"),\n",
    "        DATA_DIR.joinpath(\"03_Doorbraaklocaties\", \"240212_breslocaties_Waterkeringen_Blaeu_ARK.shp\"),\n",
    "    ]\n",
    ")\n",
    "\n",
    "# Vullen van de bressenklasse met basisgegevens en de bressen GeoDataFrame\n",
    "bressen = Bressen.from_gdf(bressen_gdf=bressen_gdf, basisgegevens=basisgegevens)"
   ]
  },
  {
   "cell_type": "markdown",
   "metadata": {},
   "source": [
    "## Verwerken bressen\n",
    "We hanteren de volgende instellingen:\n",
    "\n",
    "- `offset`: offset van de bres t.o.v. kering in meter\n",
    "- `breedte`: breedte van de bres haaks op de kering in meter\n",
    "- `lengte`: lengte van de bres langs de kering in meter\n",
    "\n",
    "\n",
    "### alle bressen in 1X"
   ]
  },
  {
   "cell_type": "code",
   "execution_count": 10,
   "metadata": {},
   "outputs": [],
   "source": [
    "bressen.bereken_vlakken(offset=50, lengte=200, breedte=40)"
   ]
  },
  {
   "cell_type": "markdown",
   "metadata": {},
   "source": [
    "### enkele bressen \n",
    "Wanneer je 1 of meerdere bressen wilt processen met andere instellingen, kun je individuele bressen opvragen en als dusdanig processen."
   ]
  },
  {
   "cell_type": "code",
   "execution_count": 11,
   "metadata": {},
   "outputs": [],
   "source": [
    "bres = bressen.get_bres(fid=1329)\n",
    "bres.bereken_vlak(offset=40, lengte=150, breedte=20, basisgegevens=bressen.basisgegevens)"
   ]
  },
  {
   "cell_type": "markdown",
   "metadata": {},
   "source": [
    "## Wegschrijven resultaat\n",
    "\n",
    "In de laatste stap schrijven we de resultaten weg naar een GeoPackage. Deze bevat drie lagen\n",
    "- `bressen` met de originele punten samengevoegd in 1 laag (punt-feature)\n",
    "- `bresvlakken` met de bresvlakken hierboven berekend (polygoon-feature)\n",
    "- `fouten` met alle vlakken die niet kunnen worden berekend (geen geometrie)"
   ]
  },
  {
   "cell_type": "code",
   "execution_count": 12,
   "metadata": {},
   "outputs": [],
   "source": [
    "bressen.to_gpkg(DATA_DIR / \"resultaat.gpkg\")"
   ]
  }
 ],
 "metadata": {
  "kernelspec": {
   "display_name": "Python 3",
   "language": "python",
   "name": "python3"
  },
  "language_info": {
   "codemirror_mode": {
    "name": "ipython",
    "version": 3
   },
   "file_extension": ".py",
   "mimetype": "text/x-python",
   "name": "python",
   "nbconvert_exporter": "python",
   "pygments_lexer": "ipython3",
   "version": "3.12.2"
  }
 },
 "nbformat": 4,
 "nbformat_minor": 2
}
