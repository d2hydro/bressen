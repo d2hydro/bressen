{
 "cells": [
  {
   "cell_type": "code",
   "execution_count": null,
   "metadata": {},
   "outputs": [],
   "source": [
    "from pathlib import Path\n",
    "from bressen import BasisGegevens, read_files\n",
    "from bressen.kering import get_kering_geometry\n",
    "from bressen.styles import add_styles_to_geopackage\n",
    "from bressen.geometries import get_closest_feature, project_point, get_containing_feature, get_offsets\n",
    "import geopandas as gpd\n",
    "from shapely.geometry import LineString, Point"
   ]
  },
  {
   "cell_type": "markdown",
   "metadata": {},
   "source": [
    "## Paden naar gegevens\n",
    "Gegevens zijn aangeleverd in verschillende directories:\n",
    "- 01_AGV_Dijktrajecten_Legger: dijktrajecten van waterschap Amstel Gooi en Vecht\n",
    "- 02_ARK_Kering: kering van het Amsterdam-Rijnkanaal\n",
    "- 03_Doorbraaklocaties: de locaties van de doorbraken\n",
    "- 04_Watervlakken: alle beschikbare watervlakken\n",
    "\n",
    "BASISGEGEVENS_GPKG en BRESSEN_GPKG verwijzen naar de basisgegevens (keringen, peil- en watervlakken) en het bressen-bestand"
   ]
  },
  {
   "cell_type": "code",
   "execution_count": null,
   "metadata": {},
   "outputs": [],
   "source": [
    "DATA_DIR = Path(r\"d:\\projecten\\D2405.waternet.bressen\\01.gegevens\")\n",
    "BRESSEN_SHP = DATA_DIR.joinpath(\"03_Doorbraaklocaties\", \"Bres_Test_060324.shp\")\n",
    "\n",
    "BASISGEGEVENS_GPKG = DATA_DIR / \"basisgegevens.gpkg\"\n",
    "BRESSEN_GPKG = DATA_DIR / \"bressen.gpkg\""
   ]
  },
  {
   "cell_type": "markdown",
   "metadata": {},
   "source": [
    "## Inlezen\n",
    "Inlezen van basisgegevens en bressen"
   ]
  },
  {
   "cell_type": "code",
   "execution_count": null,
   "metadata": {},
   "outputs": [],
   "source": [
    "# %% Inlezen basisgegevens vanuit GPKG\n",
    "basis_gegevens = BasisGegevens.from_gpkg(BASISGEGEVENS_GPKG)\n",
    "\n",
    "# Inlezen bressen vanuit meerdere bestanden\n",
    "bressen_gdf = read_files([\n",
    "    DATA_DIR.joinpath(\"03_Doorbraaklocaties\", \"240122_breslocaties_gelijk_groter_1000.shp\"),\n",
    "    DATA_DIR.joinpath(\"03_Doorbraaklocaties\", \"240212_breslocaties_kleiner_1000_angle.shp\"),\n",
    "    DATA_DIR.joinpath(\"03_Doorbraaklocaties\", \"240212_breslocaties_Waterkeringen_Blaeu_ARK.shp\"),\n",
    "    ])\n",
    "\n",
    "# Filteren lege geometrieen\n",
    "bressen_gdf = bressen_gdf[~bressen_gdf.geometry.isna()]\n",
    "\n",
    "# Filteren namen die we (voor nu) niet kunnen processen om verschillende redenen\n",
    "ignore_kwknaam = [\"Kanteldijk N201\", \"Geniedijk - Legmeerdijk\"]\n",
    "bressen_gdf = bressen_gdf[~bressen_gdf.DWKNAAM.isin(ignore_kwknaam)]\n",
    "\n",
    "# Resetten index tot een fid\n",
    "bressen_gdf.reset_index(inplace=True)\n",
    "bressen_gdf.index += 1\n",
    "\n",
    "# Bressen wegschrijven naar GPKG\n",
    "bressen_gdf.to_file(BRESSEN_GPKG, layer=\"bressen\", engine=\"pyogrio\")"
   ]
  },
  {
   "cell_type": "markdown",
   "metadata": {},
   "source": [
    "## Verwerken Bressen\n",
    "We hanteren de volgende instellingen\n",
    "`x1`: offset van de bres t.o.v. kering in meter\n",
    "`x2`: breedte van de bres haaks op de kering in meter\n",
    "`x3`: lengte van de bres langs de kering in meter"
   ]
  },
  {
   "cell_type": "code",
   "execution_count": null,
   "metadata": {},
   "outputs": [],
   "source": [
    "# instellingen\n",
    "tolerance = 0.1\n",
    "x1 = 50\n",
    "x2 = 40\n",
    "x3 = 200\n",
    "\n",
    "# init data-lijst (wordt later GeoDataFrame)\n",
    "data = []\n",
    "\n",
    "# itereren over bressen\n",
    "for row in bressen_gdf.itertuples():\n",
    "\n",
    "    # 1. selecteer dichtsbijzijnde kering binnen tolerantie\n",
    "    kering_geometry = get_kering_geometry(\n",
    "        row,\n",
    "        keringen=basis_gegevens.keringen,\n",
    "        min_length=x3,\n",
    "        max_distance=tolerance,\n",
    "        max_line_extends=1,\n",
    "        )\n",
    "        \n",
    "    # 2. bepaal offset_locatie (1) naast watervlak (2) in laagste peilgebied (3) binnen beheergebied\n",
    "\n",
    "    # haal watervlak op\n",
    "    watervlak = get_closest_feature(row, basis_gegevens.watervlakken, max_distance=x1)\n",
    "    if watervlak is not None: # (1) naast watervlak\n",
    "        offset_distance = max(min(x1, watervlak.geometry.distance(row.geometry)), tolerance)\n",
    "        offsets = get_offsets(kering_geometry, offset_distance)\n",
    "        offset_points = offsets.apply(lambda x: project_point(x, row.geometry))\n",
    "        idx = offset_points.distance(watervlak.geometry).sort_values(ascending=False).index[0]\n",
    "        offset_locatie = \"naast watervlak\"\n",
    "        if offset_distance != x1:\n",
    "            offsets = get_offsets(kering_geometry, x1, check_emtpy_lines=False)\n",
    "    else:\n",
    "        # zoek 1 of meerdere peilvlakken\n",
    "        offsets = get_offsets(kering_geometry, x1)\n",
    "        offset_points = (project_point(line, row.geometry) for line in offsets)\n",
    "        peilvlakken = [get_containing_feature(geometry, basis_gegevens.peilvlakken) for geometry in offset_points]\n",
    "        peilen = [i.peil if i is not None else None for i in peilvlakken]\n",
    "        if all(peilen): # (2) tussen twee peilvlakken, we kiezen laagste peil\n",
    "            if peilen[0] == peilen[1]:\n",
    "                print(f\"Peilvlak(ken) aan beiden zijden van bres met fid {row.Index} hebben zelfde peil: {peilen[0]} m NAP op afstand {x1}\")\n",
    "                continue\n",
    "                raise ValueError(f\"Peilvlak(ken) aan beiden zijden van bres met fid {row.Index} hebben zelfde peil: {peilen[0]} m NAP op afstand {x1}\")\n",
    "            else:\n",
    "                idx = peilen.index(min(peilen))\n",
    "                offset_locatie = \"laagste peilvlak\"\n",
    "        elif not any(peilen):\n",
    "            print(f\"Geen peilvlakken aan een zijde van bres met fid {row.Index} afstand {x1}\")\n",
    "            continue\n",
    "            raise ValueError(f\"Geen peilvlakken aan een zijde van bres met fid {row.Index} afstand {x1}\")\n",
    "        else: # (3) we kiezen het peilvlak binnen het beheergebied\n",
    "            idx = next((idx for idx, i in enumerate(peilen) if i is not None))\n",
    "            offset_locatie = \"binnen beheergebied\"\n",
    "\n",
    "    bres_offset = offsets[idx]  \n",
    "\n",
    "    # 3. bres_offset vertalen naar bres_poly\n",
    "    mid_distance = bres_offset.project(row.geometry)\n",
    "    min_distance= max(mid_distance - x3/2, 0)\n",
    "    max_distance= min(mid_distance + x3/2, bres_offset.length)\n",
    "    line_start = bres_offset.interpolate(min_distance)\n",
    "    line_end = bres_offset.interpolate(max_distance)\n",
    "    distances = (bres_offset.project(Point(i)) for i in bres_offset.coords)\n",
    "    line_vertices = [bres_offset.interpolate(i) for i in distances if (i > min_distance) and (i < max_distance)]\n",
    "    bres_line = LineString(([line_start]+ line_vertices + [line_end]))\n",
    "    bres_poly = bres_line.buffer(x2/2, cap_style=\"flat\")\n",
    "\n",
    "    # 4. toevoegen aan data\n",
    "    row_dict = row._asdict()\n",
    "    row_dict[\"geometry\"] = bres_poly\n",
    "    row_dict[\"offset_locatie\"] = offset_locatie\n",
    "    data += [row_dict]\n"
   ]
  },
  {
   "cell_type": "markdown",
   "metadata": {},
   "source": [
    "## Wegschrijven resultaat"
   ]
  },
  {
   "cell_type": "code",
   "execution_count": null,
   "metadata": {},
   "outputs": [],
   "source": [
    "# Wegschrijven bresvlakken\n",
    "bresvlakken_gdf = gpd.GeoDataFrame(data, crs=bressen_gdf.crs)\n",
    "bresvlakken_gdf.drop(columns=\"Index\", inplace=True)\n",
    "bresvlakken_gdf.to_file(BRESSEN_GPKG, layer=\"bresvlakken\", engine=\"pyogrio\")\n",
    "\n",
    "# toevoegen styles aan GeoPackage\n",
    "add_styles_to_geopackage(BRESSEN_GPKG)"
   ]
  }
 ],
 "metadata": {
  "language_info": {
   "name": "python"
  }
 },
 "nbformat": 4,
 "nbformat_minor": 2
}
