{
 "cells": [
  {
   "cell_type": "code",
   "execution_count": null,
   "metadata": {},
   "outputs": [],
   "source": [
    "from pathlib import Path\n",
    "from bressen import read_directory, read_files\n",
    "from bressen.vlakken import aggregate_peil"
   ]
  },
  {
   "cell_type": "markdown",
   "metadata": {},
   "source": [
    "## Paden naar gegevens\n",
    "Gegevens zijn aangeleverd in verschillende directories:\n",
    "- 01_AGV_Dijktrajecten_Legger: dijktrajecten van waterschap Amstel Gooi en Vecht\n",
    "- 02_ARK_Kering: kering van het Amsterdam-Rijnkanaal\n",
    "- 03_Doorbraaklocaties: de locaties van de doorbraken\n",
    "- 04_Watervlakken: alle beschikbare watervlakken\n",
    "\n",
    "Hieronder staan alle paden naar de relevante directories en bestanden gespecificeerd waarmee we de klasse `BasisGegevens` kunnen samenstellen. Deze schrijven we weg in een GeoPackage die we later kunnen inlezen."
   ]
  },
  {
   "cell_type": "code",
   "execution_count": null,
   "metadata": {},
   "outputs": [],
   "source": [
    "DATA_DIR = Path(r\"d:\\projecten\\D2405.waternet.bressen\\01.gegevens\")\n",
    "\n",
    "PEILVAKKEN_DIR = DATA_DIR / \"04_Peilvlakken\"\n",
    "WATERVLAKKEN_DIR = DATA_DIR / \"05_Watervlakken\"\n",
    "KERINGEN_FILES = [\n",
    "    DATA_DIR.joinpath(\"01_AGV_Dijktrajecten_Legger\", \"240122_Export_Output_11_verwerkt.shp\"),\n",
    "    DATA_DIR.joinpath(\"02_ARK_Kering\", \"240212_Waterkeringen_Blaeu_ARK.shp\")\n",
    "    ]\n",
    "\n",
    "GPKG_OUT = DATA_DIR / \"basisgegevens.gpkg\""
   ]
  },
  {
   "cell_type": "markdown",
   "metadata": {},
   "source": [
    "## Peilvakken\n",
    "Peilvakken samenstellen uit PEILVAKKEN_DIR. hierbij wordt een attribuut `peil` toegevoegd op basis van de minimale waarde uit een aantal kolommen met peilen"
   ]
  },
  {
   "cell_type": "code",
   "execution_count": null,
   "metadata": {},
   "outputs": [],
   "source": [
    "# inlezen peilvakken\n",
    "gdf = read_directory(PEILVAKKEN_DIR)\n",
    "\n",
    "# peilkolommen\n",
    "peil_kolommen = [\n",
    "    'IWS_GPGVAS',\n",
    "    'IWS_GPGOND',\n",
    "    'IWS_GPGBOV',\n",
    "    'VAST_PEIL',\n",
    "    'FLEXIBEL_W',\n",
    "    'FLEXIBEL_Z',\n",
    "    'WINTERPEIL',\n",
    "    'ZOMERPEIL'\n",
    "    ]\n",
    "\n",
    "# toevoegen kolom met peil\n",
    "peilvlakken = aggregate_peil(gdf, columns=peil_kolommen, method=\"min\", nodata=0)"
   ]
  },
  {
   "cell_type": "markdown",
   "metadata": {},
   "source": [
    "## Watervlakken\n",
    "Watervlakken lezen we in uit de directory met watervlakken"
   ]
  },
  {
   "cell_type": "code",
   "execution_count": null,
   "metadata": {},
   "outputs": [],
   "source": [
    "watervlakken = read_directory(WATERVLAKKEN_DIR)"
   ]
  },
  {
   "cell_type": "markdown",
   "metadata": {},
   "source": [
    "# Inlezen keringen\n",
    "Keringen lezen uit verschillende bestanden.\n",
    "\n",
    "Let op (!) voor het bouwen van bressen kunnen we geen MultiLineStrings gebruiken. Vandaar dat we deze omzetten naar (meerdere) LineStrings met `.explode()`"
   ]
  },
  {
   "cell_type": "code",
   "execution_count": null,
   "metadata": {},
   "outputs": [],
   "source": [
    "keringen = read_files(KERINGEN_FILES)\n",
    "keringen = keringen.explode(index_parts=False)\n",
    "keringen.reset_index(inplace=True)"
   ]
  }
 ],
 "metadata": {
  "language_info": {
   "name": "python"
  }
 },
 "nbformat": 4,
 "nbformat_minor": 2
}
